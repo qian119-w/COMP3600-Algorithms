{
 "cells": [
  {
   "cell_type": "code",
   "execution_count": 1,
   "metadata": {},
   "outputs": [],
   "source": [
    "import numpy as np\n",
    "import pandas as pd\n",
    "import matplotlib.pyplot as plt\n",
    "from sklearn.metrics import r2_score\n",
    "from sklearn.linear_model import LinearRegression\n",
    "\n",
    "import warnings\n",
    "warnings.filterwarnings(\"ignore\")"
   ]
  },
  {
   "cell_type": "code",
   "execution_count": 2,
   "metadata": {},
   "outputs": [],
   "source": [
    "data = pd.read_csv(\"plot.csv\")"
   ]
  },
  {
   "cell_type": "code",
   "execution_count": 3,
   "metadata": {},
   "outputs": [
    {
     "data": {
      "text/html": [
       "<div>\n",
       "<style scoped>\n",
       "    .dataframe tbody tr th:only-of-type {\n",
       "        vertical-align: middle;\n",
       "    }\n",
       "\n",
       "    .dataframe tbody tr th {\n",
       "        vertical-align: top;\n",
       "    }\n",
       "\n",
       "    .dataframe thead th {\n",
       "        text-align: right;\n",
       "    }\n",
       "</style>\n",
       "<table border=\"1\" class=\"dataframe\">\n",
       "  <thead>\n",
       "    <tr style=\"text-align: right;\">\n",
       "      <th></th>\n",
       "      <th>F * num_of_proposals</th>\n",
       "      <th>time/ms</th>\n",
       "    </tr>\n",
       "  </thead>\n",
       "  <tbody>\n",
       "    <tr>\n",
       "      <th>0</th>\n",
       "      <td>25722897</td>\n",
       "      <td>81.932</td>\n",
       "    </tr>\n",
       "    <tr>\n",
       "      <th>1</th>\n",
       "      <td>17163900</td>\n",
       "      <td>50.759</td>\n",
       "    </tr>\n",
       "    <tr>\n",
       "      <th>2</th>\n",
       "      <td>10121562</td>\n",
       "      <td>27.553</td>\n",
       "    </tr>\n",
       "    <tr>\n",
       "      <th>3</th>\n",
       "      <td>985002</td>\n",
       "      <td>2.823</td>\n",
       "    </tr>\n",
       "    <tr>\n",
       "      <th>4</th>\n",
       "      <td>24043950</td>\n",
       "      <td>59.477</td>\n",
       "    </tr>\n",
       "    <tr>\n",
       "      <th>...</th>\n",
       "      <td>...</td>\n",
       "      <td>...</td>\n",
       "    </tr>\n",
       "    <tr>\n",
       "      <th>95</th>\n",
       "      <td>11257128</td>\n",
       "      <td>32.084</td>\n",
       "    </tr>\n",
       "    <tr>\n",
       "      <th>96</th>\n",
       "      <td>32219550</td>\n",
       "      <td>98.952</td>\n",
       "    </tr>\n",
       "    <tr>\n",
       "      <th>97</th>\n",
       "      <td>22831263</td>\n",
       "      <td>65.827</td>\n",
       "    </tr>\n",
       "    <tr>\n",
       "      <th>98</th>\n",
       "      <td>6777635</td>\n",
       "      <td>20.675</td>\n",
       "    </tr>\n",
       "    <tr>\n",
       "      <th>99</th>\n",
       "      <td>2349594</td>\n",
       "      <td>6.235</td>\n",
       "    </tr>\n",
       "  </tbody>\n",
       "</table>\n",
       "<p>100 rows × 2 columns</p>\n",
       "</div>"
      ],
      "text/plain": [
       "    F * num_of_proposals    time/ms\n",
       "0                25722897    81.932\n",
       "1                17163900    50.759\n",
       "2                10121562    27.553\n",
       "3                  985002     2.823\n",
       "4                24043950    59.477\n",
       "..                    ...       ...\n",
       "95               11257128    32.084\n",
       "96               32219550    98.952\n",
       "97               22831263    65.827\n",
       "98                6777635    20.675\n",
       "99                2349594     6.235\n",
       "\n",
       "[100 rows x 2 columns]"
      ]
     },
     "execution_count": 3,
     "metadata": {},
     "output_type": "execute_result"
    }
   ],
   "source": [
    "data"
   ]
  },
  {
   "cell_type": "code",
   "execution_count": 4,
   "metadata": {},
   "outputs": [
    {
     "data": {
      "image/png": "[encoded data removed]",
      "text/plain": [
       "<Figure size 1440x288 with 1 Axes>"
      ]
     },
     "metadata": {
      "needs_background": "light"
     },
     "output_type": "display_data"
    }
   ],
   "source": [
    "fig = plt.figure(figsize = (20,4))\n",
    "\n",
    "x = data.iloc[:,0]\n",
    "y = data.iloc[:,1]\n",
    "\n",
    "ax = fig.add_subplot(1,1,1)\n",
    "\n",
    "ax.scatter(x, y, s= 5, alpha = 1, c = 'red')\n",
    "\n",
    "slope, intercept = np.polyfit(x,y,1)\n",
    "r2_co = r2_score(y , slope * x + intercept)\n",
    "\n",
    "ax.plot(x, slope * x + intercept, color = 'green', label = 'BFLine (R2='+str(round(r2_co,3))+')')\n",
    "\n",
    "ax.set_title('Empirical Analysis of SetOfProposals', size = 16, weight = 'semibold')\n",
    "ax.set_ylabel(\"Time/ms\", size = 12, weight = 'semibold')\n",
    "ax.set_xlabel('F * sum k_i', size = 12, weight = 'semibold')\n",
    "ax.set_yticklabels(ax.get_yticks().astype(int), weight = 'semibold')\n",
    "ax.set_xticklabels(ax.get_xticks().astype(int), weight = 'semibold')\n",
    "\n",
    "ax.legend(prop={'weight':'semibold', 'size': 12})\n",
    "\n",
    "plt.show()"
   ]
  },
  {
   "cell_type": "code",
   "execution_count": null,
   "metadata": {},
   "outputs": [],
   "source": []
  }
 ],
 "metadata": {
  "interpreter": {
   "hash": "64d4186d9e2d60bf3c65a91c673beeaa5538dae907646115669b98f7281cc876"
  },
  "kernelspec": {
   "display_name": "Python 3.8.5 64-bit ('base': conda)",
   "name": "python3"
  },
  "language_info": {
   "codemirror_mode": {
    "name": "ipython",
    "version": 3
   },
   "file_extension": ".py",
   "mimetype": "text/x-python",
   "name": "python",
   "nbconvert_exporter": "python",
   "pygments_lexer": "ipython3",
   "version": "3.8.5"
  }
 },
 "nbformat": 4,
 "nbformat_minor": 4
}
